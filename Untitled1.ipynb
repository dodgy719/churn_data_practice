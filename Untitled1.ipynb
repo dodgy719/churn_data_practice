{
 "cells": [
  {
   "cell_type": "code",
   "execution_count": 1,
   "metadata": {
    "ExecuteTime": {
     "end_time": "2021-01-29T20:25:22.406717Z",
     "start_time": "2021-01-29T20:25:21.581682Z"
    }
   },
   "outputs": [],
   "source": [
    "import pandas as pd\n",
    "import seaborn as sns\n",
    "import numpy as np\n",
    "import matplotlib.pyplot as plt"
   ]
  },
  {
   "cell_type": "code",
   "execution_count": 2,
   "metadata": {
    "ExecuteTime": {
     "end_time": "2021-01-29T20:25:22.422731Z",
     "start_time": "2021-01-29T20:25:22.408629Z"
    }
   },
   "outputs": [],
   "source": [
    "df = pd.read_csv('cleaned_churn_data.csv')"
   ]
  },
  {
   "cell_type": "code",
   "execution_count": 3,
   "metadata": {
    "ExecuteTime": {
     "end_time": "2021-01-29T20:25:22.445325Z",
     "start_time": "2021-01-29T20:25:22.427773Z"
    }
   },
   "outputs": [
    {
     "data": {
      "text/html": [
       "<div>\n",
       "<style scoped>\n",
       "    .dataframe tbody tr th:only-of-type {\n",
       "        vertical-align: middle;\n",
       "    }\n",
       "\n",
       "    .dataframe tbody tr th {\n",
       "        vertical-align: top;\n",
       "    }\n",
       "\n",
       "    .dataframe thead th {\n",
       "        text-align: right;\n",
       "    }\n",
       "</style>\n",
       "<table border=\"1\" class=\"dataframe\">\n",
       "  <thead>\n",
       "    <tr style=\"text-align: right;\">\n",
       "      <th></th>\n",
       "      <th>Unnamed: 0</th>\n",
       "      <th>account length</th>\n",
       "      <th>area code</th>\n",
       "      <th>international plan</th>\n",
       "      <th>voice mail plan</th>\n",
       "      <th>number vmail messages</th>\n",
       "      <th>total day minutes</th>\n",
       "      <th>total day calls</th>\n",
       "      <th>total day charge</th>\n",
       "      <th>total eve minutes</th>\n",
       "      <th>...</th>\n",
       "      <th>churn</th>\n",
       "      <th>Division_East North Central</th>\n",
       "      <th>Division_East South Central</th>\n",
       "      <th>Division_Middle Atlantic</th>\n",
       "      <th>Division_Mountain</th>\n",
       "      <th>Division_New England</th>\n",
       "      <th>Division_Pacific</th>\n",
       "      <th>Division_South Atlantic</th>\n",
       "      <th>Division_West North Central</th>\n",
       "      <th>Division_West South Central</th>\n",
       "    </tr>\n",
       "  </thead>\n",
       "  <tbody>\n",
       "    <tr>\n",
       "      <th>0</th>\n",
       "      <td>0</td>\n",
       "      <td>128</td>\n",
       "      <td>415</td>\n",
       "      <td>0</td>\n",
       "      <td>1</td>\n",
       "      <td>25</td>\n",
       "      <td>265.1</td>\n",
       "      <td>110</td>\n",
       "      <td>45.07</td>\n",
       "      <td>197.4</td>\n",
       "      <td>...</td>\n",
       "      <td>False</td>\n",
       "      <td>0</td>\n",
       "      <td>0</td>\n",
       "      <td>0</td>\n",
       "      <td>0</td>\n",
       "      <td>0</td>\n",
       "      <td>0</td>\n",
       "      <td>0</td>\n",
       "      <td>1</td>\n",
       "      <td>0</td>\n",
       "    </tr>\n",
       "    <tr>\n",
       "      <th>1</th>\n",
       "      <td>1</td>\n",
       "      <td>70</td>\n",
       "      <td>408</td>\n",
       "      <td>0</td>\n",
       "      <td>0</td>\n",
       "      <td>0</td>\n",
       "      <td>232.1</td>\n",
       "      <td>122</td>\n",
       "      <td>39.46</td>\n",
       "      <td>292.3</td>\n",
       "      <td>...</td>\n",
       "      <td>False</td>\n",
       "      <td>0</td>\n",
       "      <td>0</td>\n",
       "      <td>0</td>\n",
       "      <td>0</td>\n",
       "      <td>0</td>\n",
       "      <td>0</td>\n",
       "      <td>0</td>\n",
       "      <td>1</td>\n",
       "      <td>0</td>\n",
       "    </tr>\n",
       "    <tr>\n",
       "      <th>2</th>\n",
       "      <td>2</td>\n",
       "      <td>92</td>\n",
       "      <td>408</td>\n",
       "      <td>1</td>\n",
       "      <td>0</td>\n",
       "      <td>0</td>\n",
       "      <td>62.6</td>\n",
       "      <td>111</td>\n",
       "      <td>10.64</td>\n",
       "      <td>180.6</td>\n",
       "      <td>...</td>\n",
       "      <td>True</td>\n",
       "      <td>0</td>\n",
       "      <td>0</td>\n",
       "      <td>0</td>\n",
       "      <td>0</td>\n",
       "      <td>0</td>\n",
       "      <td>0</td>\n",
       "      <td>0</td>\n",
       "      <td>1</td>\n",
       "      <td>0</td>\n",
       "    </tr>\n",
       "    <tr>\n",
       "      <th>3</th>\n",
       "      <td>3</td>\n",
       "      <td>137</td>\n",
       "      <td>408</td>\n",
       "      <td>0</td>\n",
       "      <td>0</td>\n",
       "      <td>0</td>\n",
       "      <td>205.9</td>\n",
       "      <td>88</td>\n",
       "      <td>35.00</td>\n",
       "      <td>209.3</td>\n",
       "      <td>...</td>\n",
       "      <td>False</td>\n",
       "      <td>0</td>\n",
       "      <td>0</td>\n",
       "      <td>0</td>\n",
       "      <td>0</td>\n",
       "      <td>0</td>\n",
       "      <td>0</td>\n",
       "      <td>0</td>\n",
       "      <td>1</td>\n",
       "      <td>0</td>\n",
       "    </tr>\n",
       "    <tr>\n",
       "      <th>4</th>\n",
       "      <td>4</td>\n",
       "      <td>132</td>\n",
       "      <td>415</td>\n",
       "      <td>0</td>\n",
       "      <td>0</td>\n",
       "      <td>0</td>\n",
       "      <td>83.4</td>\n",
       "      <td>110</td>\n",
       "      <td>14.18</td>\n",
       "      <td>232.2</td>\n",
       "      <td>...</td>\n",
       "      <td>False</td>\n",
       "      <td>0</td>\n",
       "      <td>0</td>\n",
       "      <td>0</td>\n",
       "      <td>0</td>\n",
       "      <td>0</td>\n",
       "      <td>0</td>\n",
       "      <td>0</td>\n",
       "      <td>1</td>\n",
       "      <td>0</td>\n",
       "    </tr>\n",
       "  </tbody>\n",
       "</table>\n",
       "<p>5 rows × 29 columns</p>\n",
       "</div>"
      ],
      "text/plain": [
       "   Unnamed: 0  account length  area code  international plan  voice mail plan  \\\n",
       "0           0             128        415                   0                1   \n",
       "1           1              70        408                   0                0   \n",
       "2           2              92        408                   1                0   \n",
       "3           3             137        408                   0                0   \n",
       "4           4             132        415                   0                0   \n",
       "\n",
       "   number vmail messages  total day minutes  total day calls  \\\n",
       "0                     25              265.1              110   \n",
       "1                      0              232.1              122   \n",
       "2                      0               62.6              111   \n",
       "3                      0              205.9               88   \n",
       "4                      0               83.4              110   \n",
       "\n",
       "   total day charge  total eve minutes  ...  churn  \\\n",
       "0             45.07              197.4  ...  False   \n",
       "1             39.46              292.3  ...  False   \n",
       "2             10.64              180.6  ...   True   \n",
       "3             35.00              209.3  ...  False   \n",
       "4             14.18              232.2  ...  False   \n",
       "\n",
       "   Division_East North Central  Division_East South Central  \\\n",
       "0                            0                            0   \n",
       "1                            0                            0   \n",
       "2                            0                            0   \n",
       "3                            0                            0   \n",
       "4                            0                            0   \n",
       "\n",
       "   Division_Middle Atlantic  Division_Mountain  Division_New England  \\\n",
       "0                         0                  0                     0   \n",
       "1                         0                  0                     0   \n",
       "2                         0                  0                     0   \n",
       "3                         0                  0                     0   \n",
       "4                         0                  0                     0   \n",
       "\n",
       "   Division_Pacific  Division_South Atlantic  Division_West North Central  \\\n",
       "0                 0                        0                            1   \n",
       "1                 0                        0                            1   \n",
       "2                 0                        0                            1   \n",
       "3                 0                        0                            1   \n",
       "4                 0                        0                            1   \n",
       "\n",
       "   Division_West South Central  \n",
       "0                            0  \n",
       "1                            0  \n",
       "2                            0  \n",
       "3                            0  \n",
       "4                            0  \n",
       "\n",
       "[5 rows x 29 columns]"
      ]
     },
     "execution_count": 3,
     "metadata": {},
     "output_type": "execute_result"
    }
   ],
   "source": [
    "df.head()"
   ]
  },
  {
   "cell_type": "code",
   "execution_count": 4,
   "metadata": {
    "ExecuteTime": {
     "end_time": "2021-01-29T20:25:22.454263Z",
     "start_time": "2021-01-29T20:25:22.446548Z"
    }
   },
   "outputs": [
    {
     "name": "stdout",
     "output_type": "stream",
     "text": [
      "<class 'pandas.core.frame.DataFrame'>\n",
      "RangeIndex: 3333 entries, 0 to 3332\n",
      "Data columns (total 29 columns):\n",
      " #   Column                       Non-Null Count  Dtype  \n",
      "---  ------                       --------------  -----  \n",
      " 0   Unnamed: 0                   3333 non-null   int64  \n",
      " 1   account length               3333 non-null   int64  \n",
      " 2   area code                    3333 non-null   int64  \n",
      " 3   international plan           3333 non-null   int64  \n",
      " 4   voice mail plan              3333 non-null   int64  \n",
      " 5   number vmail messages        3333 non-null   int64  \n",
      " 6   total day minutes            3333 non-null   float64\n",
      " 7   total day calls              3333 non-null   int64  \n",
      " 8   total day charge             3333 non-null   float64\n",
      " 9   total eve minutes            3333 non-null   float64\n",
      " 10  total eve calls              3333 non-null   int64  \n",
      " 11  total eve charge             3333 non-null   float64\n",
      " 12  total night minutes          3333 non-null   float64\n",
      " 13  total night calls            3333 non-null   int64  \n",
      " 14  total night charge           3333 non-null   float64\n",
      " 15  total intl minutes           3333 non-null   float64\n",
      " 16  total intl calls             3333 non-null   int64  \n",
      " 17  total intl charge            3333 non-null   float64\n",
      " 18  customer service calls       3333 non-null   int64  \n",
      " 19  churn                        3333 non-null   bool   \n",
      " 20  Division_East North Central  3333 non-null   int64  \n",
      " 21  Division_East South Central  3333 non-null   int64  \n",
      " 22  Division_Middle Atlantic     3333 non-null   int64  \n",
      " 23  Division_Mountain            3333 non-null   int64  \n",
      " 24  Division_New England         3333 non-null   int64  \n",
      " 25  Division_Pacific             3333 non-null   int64  \n",
      " 26  Division_South Atlantic      3333 non-null   int64  \n",
      " 27  Division_West North Central  3333 non-null   int64  \n",
      " 28  Division_West South Central  3333 non-null   int64  \n",
      "dtypes: bool(1), float64(8), int64(20)\n",
      "memory usage: 732.5 KB\n"
     ]
    }
   ],
   "source": [
    "df.info()"
   ]
  },
  {
   "cell_type": "code",
   "execution_count": 5,
   "metadata": {
    "ExecuteTime": {
     "end_time": "2021-01-29T20:25:22.466376Z",
     "start_time": "2021-01-29T20:25:22.456038Z"
    }
   },
   "outputs": [
    {
     "data": {
      "text/plain": [
       "False    0.855086\n",
       "True     0.144914\n",
       "Name: churn, dtype: float64"
      ]
     },
     "execution_count": 5,
     "metadata": {},
     "output_type": "execute_result"
    }
   ],
   "source": [
    "df.churn.value_counts(normalize= True)"
   ]
  },
  {
   "cell_type": "code",
   "execution_count": 6,
   "metadata": {
    "ExecuteTime": {
     "end_time": "2021-01-29T20:25:22.472093Z",
     "start_time": "2021-01-29T20:25:22.467730Z"
    }
   },
   "outputs": [
    {
     "data": {
      "text/plain": [
       "0    3010\n",
       "1     323\n",
       "Name: international plan, dtype: int64"
      ]
     },
     "execution_count": 6,
     "metadata": {},
     "output_type": "execute_result"
    }
   ],
   "source": [
    "df['international plan'].value_counts()"
   ]
  },
  {
   "cell_type": "code",
   "execution_count": 7,
   "metadata": {
    "ExecuteTime": {
     "end_time": "2021-01-29T20:25:22.758844Z",
     "start_time": "2021-01-29T20:25:22.477368Z"
    }
   },
   "outputs": [],
   "source": [
    "from sklearn.linear_model import LogisticRegression\n",
    "from sklearn.model_selection import train_test_split\n",
    "from sklearn.metrics import confusion_matrix, classification_report\n",
    "from sklearn.neighbors import KNeighborsClassifier"
   ]
  },
  {
   "cell_type": "code",
   "execution_count": 8,
   "metadata": {
    "ExecuteTime": {
     "end_time": "2021-01-29T20:25:22.764210Z",
     "start_time": "2021-01-29T20:25:22.761308Z"
    }
   },
   "outputs": [],
   "source": [
    "X = df.drop(columns = ['churn'], axis = 1)\n",
    "Y = df['churn']"
   ]
  },
  {
   "cell_type": "code",
   "execution_count": 9,
   "metadata": {
    "ExecuteTime": {
     "end_time": "2021-01-29T20:25:22.769618Z",
     "start_time": "2021-01-29T20:25:22.765544Z"
    }
   },
   "outputs": [],
   "source": [
    "X_train, X_test, y_train, y_test = train_test_split(X, Y)"
   ]
  },
  {
   "cell_type": "code",
   "execution_count": 10,
   "metadata": {
    "ExecuteTime": {
     "end_time": "2021-01-29T20:25:22.776944Z",
     "start_time": "2021-01-29T20:25:22.771263Z"
    }
   },
   "outputs": [
    {
     "data": {
      "text/plain": [
       "2499"
      ]
     },
     "execution_count": 10,
     "metadata": {},
     "output_type": "execute_result"
    }
   ],
   "source": [
    "len(X_train)"
   ]
  },
  {
   "cell_type": "code",
   "execution_count": 11,
   "metadata": {
    "ExecuteTime": {
     "end_time": "2021-01-29T20:25:22.783694Z",
     "start_time": "2021-01-29T20:25:22.778860Z"
    }
   },
   "outputs": [
    {
     "data": {
      "text/plain": [
       "834"
      ]
     },
     "execution_count": 11,
     "metadata": {},
     "output_type": "execute_result"
    }
   ],
   "source": [
    "len(X_test)"
   ]
  },
  {
   "cell_type": "code",
   "execution_count": 12,
   "metadata": {
    "ExecuteTime": {
     "end_time": "2021-01-29T20:25:22.793632Z",
     "start_time": "2021-01-29T20:25:22.790950Z"
    }
   },
   "outputs": [],
   "source": [
    "logreg = LogisticRegression(C = 1e10, class_weight= 'balanced')"
   ]
  },
  {
   "cell_type": "code",
   "execution_count": 13,
   "metadata": {
    "ExecuteTime": {
     "end_time": "2021-01-29T20:25:22.856856Z",
     "start_time": "2021-01-29T20:25:22.795436Z"
    }
   },
   "outputs": [
    {
     "name": "stderr",
     "output_type": "stream",
     "text": [
      "/Users/akulkarni/anaconda3/lib/python3.8/site-packages/sklearn/linear_model/_logistic.py:762: ConvergenceWarning: lbfgs failed to converge (status=1):\n",
      "STOP: TOTAL NO. of ITERATIONS REACHED LIMIT.\n",
      "\n",
      "Increase the number of iterations (max_iter) or scale the data as shown in:\n",
      "    https://scikit-learn.org/stable/modules/preprocessing.html\n",
      "Please also refer to the documentation for alternative solver options:\n",
      "    https://scikit-learn.org/stable/modules/linear_model.html#logistic-regression\n",
      "  n_iter_i = _check_optimize_result(\n"
     ]
    },
    {
     "data": {
      "text/plain": [
       "LogisticRegression(C=10000000000.0, class_weight='balanced')"
      ]
     },
     "execution_count": 13,
     "metadata": {},
     "output_type": "execute_result"
    }
   ],
   "source": [
    "logreg.fit(X_train, y_train)"
   ]
  },
  {
   "cell_type": "code",
   "execution_count": 14,
   "metadata": {
    "ExecuteTime": {
     "end_time": "2021-01-29T20:25:22.866268Z",
     "start_time": "2021-01-29T20:25:22.858744Z"
    }
   },
   "outputs": [],
   "source": [
    "logreg_results = logreg.predict(X_test)"
   ]
  },
  {
   "cell_type": "code",
   "execution_count": 15,
   "metadata": {
    "ExecuteTime": {
     "end_time": "2021-01-29T20:25:22.876139Z",
     "start_time": "2021-01-29T20:25:22.867812Z"
    }
   },
   "outputs": [
    {
     "name": "stdout",
     "output_type": "stream",
     "text": [
      "              precision    recall  f1-score   support\n",
      "\n",
      "       False       0.92      0.61      0.73       732\n",
      "        True       0.18      0.64      0.29       102\n",
      "\n",
      "    accuracy                           0.61       834\n",
      "   macro avg       0.55      0.62      0.51       834\n",
      "weighted avg       0.83      0.61      0.68       834\n",
      "\n"
     ]
    }
   ],
   "source": [
    "print(classification_report(y_test, logreg_results))"
   ]
  },
  {
   "cell_type": "code",
   "execution_count": 61,
   "metadata": {
    "ExecuteTime": {
     "end_time": "2021-01-29T20:27:53.714765Z",
     "start_time": "2021-01-29T20:27:53.712874Z"
    }
   },
   "outputs": [],
   "source": [
    "knn = KNeighborsClassifier(n_neighbors= 5)"
   ]
  },
  {
   "cell_type": "code",
   "execution_count": 62,
   "metadata": {
    "ExecuteTime": {
     "end_time": "2021-01-29T20:27:53.977278Z",
     "start_time": "2021-01-29T20:27:53.968192Z"
    }
   },
   "outputs": [
    {
     "data": {
      "text/plain": [
       "KNeighborsClassifier()"
      ]
     },
     "execution_count": 62,
     "metadata": {},
     "output_type": "execute_result"
    }
   ],
   "source": [
    "knn.fit(X_train, y_train)"
   ]
  },
  {
   "cell_type": "code",
   "execution_count": 63,
   "metadata": {
    "ExecuteTime": {
     "end_time": "2021-01-29T20:27:54.314508Z",
     "start_time": "2021-01-29T20:27:54.279482Z"
    }
   },
   "outputs": [],
   "source": [
    "kn_preds = knn.predict(X_test)"
   ]
  },
  {
   "cell_type": "code",
   "execution_count": 64,
   "metadata": {
    "ExecuteTime": {
     "end_time": "2021-01-29T20:27:55.043989Z",
     "start_time": "2021-01-29T20:27:55.038090Z"
    }
   },
   "outputs": [
    {
     "name": "stdout",
     "output_type": "stream",
     "text": [
      "              precision    recall  f1-score   support\n",
      "\n",
      "       False       0.89      0.98      0.93       732\n",
      "        True       0.36      0.10      0.15       102\n",
      "\n",
      "    accuracy                           0.87       834\n",
      "   macro avg       0.62      0.54      0.54       834\n",
      "weighted avg       0.82      0.87      0.83       834\n",
      "\n"
     ]
    }
   ],
   "source": [
    "print(classification_report(y_test, kn_preds))"
   ]
  },
  {
   "cell_type": "code",
   "execution_count": 60,
   "metadata": {
    "ExecuteTime": {
     "end_time": "2021-01-29T20:27:32.390548Z",
     "start_time": "2021-01-29T20:27:32.386781Z"
    }
   },
   "outputs": [
    {
     "data": {
      "text/plain": [
       "Unnamed: 0                     2250.00\n",
       "account length                   70.00\n",
       "area code                       510.00\n",
       "international plan                0.00\n",
       "voice mail plan                   0.00\n",
       "number vmail messages             0.00\n",
       "total day minutes               129.90\n",
       "total day calls                 102.00\n",
       "total day charge                 22.08\n",
       "total eve minutes               208.70\n",
       "total eve calls                 133.00\n",
       "total eve charge                 17.74\n",
       "total night minutes             231.40\n",
       "total night calls                93.00\n",
       "total night charge               10.41\n",
       "total intl minutes               14.30\n",
       "total intl calls                  3.00\n",
       "total intl charge                 3.86\n",
       "customer service calls            1.00\n",
       "Division_East North Central       1.00\n",
       "Division_East South Central       0.00\n",
       "Division_Middle Atlantic          0.00\n",
       "Division_Mountain                 0.00\n",
       "Division_New England              0.00\n",
       "Division_Pacific                  0.00\n",
       "Division_South Atlantic           0.00\n",
       "Division_West North Central       0.00\n",
       "Division_West South Central       0.00\n",
       "Name: 2250, dtype: float64"
      ]
     },
     "execution_count": 60,
     "metadata": {},
     "output_type": "execute_result"
    }
   ],
   "source": [
    "X_test.iloc[0]"
   ]
  },
  {
   "cell_type": "code",
   "execution_count": 21,
   "metadata": {
    "ExecuteTime": {
     "end_time": "2021-01-29T20:25:22.977605Z",
     "start_time": "2021-01-29T20:25:22.972480Z"
    }
   },
   "outputs": [],
   "source": [
    "#knn.kneighbors(X_test.iloc[0].reshape(-1, 1), n_neighbors= 5)"
   ]
  },
  {
   "cell_type": "code",
   "execution_count": 22,
   "metadata": {
    "ExecuteTime": {
     "end_time": "2021-01-29T20:25:23.014699Z",
     "start_time": "2021-01-29T20:25:22.989202Z"
    }
   },
   "outputs": [
    {
     "data": {
      "text/plain": [
       "array([[0.8, 0.2],\n",
       "       [0.8, 0.2],\n",
       "       [0.8, 0.2],\n",
       "       ...,\n",
       "       [1. , 0. ],\n",
       "       [1. , 0. ],\n",
       "       [0.8, 0.2]])"
      ]
     },
     "execution_count": 22,
     "metadata": {},
     "output_type": "execute_result"
    }
   ],
   "source": [
    "knn.predict_proba(X_test)"
   ]
  },
  {
   "cell_type": "code",
   "execution_count": 65,
   "metadata": {
    "ExecuteTime": {
     "end_time": "2021-01-29T20:29:29.667669Z",
     "start_time": "2021-01-29T20:29:29.665585Z"
    }
   },
   "outputs": [],
   "source": [
    "possible_ks = [3,5,7]"
   ]
  },
  {
   "cell_type": "code",
   "execution_count": 70,
   "metadata": {
    "ExecuteTime": {
     "end_time": "2021-01-29T20:31:20.487680Z",
     "start_time": "2021-01-29T20:31:20.485414Z"
    }
   },
   "outputs": [],
   "source": [
    "knn_models = {}"
   ]
  },
  {
   "cell_type": "code",
   "execution_count": 82,
   "metadata": {
    "ExecuteTime": {
     "end_time": "2021-01-29T20:35:09.851073Z",
     "start_time": "2021-01-29T20:35:09.834931Z"
    }
   },
   "outputs": [],
   "source": [
    "for k in possible_ks:\n",
    "    knn_models['knn_' + str(k)] = KNeighborsClassifier(n_neighbors= k).fit(X_train, y_train)"
   ]
  },
  {
   "cell_type": "code",
   "execution_count": 83,
   "metadata": {
    "ExecuteTime": {
     "end_time": "2021-01-29T20:35:10.475867Z",
     "start_time": "2021-01-29T20:35:10.472603Z"
    }
   },
   "outputs": [
    {
     "data": {
      "text/plain": [
       "{'knn_3': KNeighborsClassifier(n_neighbors=3),\n",
       " 'knn_5': KNeighborsClassifier(),\n",
       " 'knn_7': KNeighborsClassifier(n_neighbors=7)}"
      ]
     },
     "execution_count": 83,
     "metadata": {},
     "output_type": "execute_result"
    }
   ],
   "source": [
    "knn_models"
   ]
  },
  {
   "cell_type": "code",
   "execution_count": 84,
   "metadata": {
    "ExecuteTime": {
     "end_time": "2021-01-29T20:35:12.638318Z",
     "start_time": "2021-01-29T20:35:12.635634Z"
    }
   },
   "outputs": [],
   "source": [
    "knn_results = {}"
   ]
  },
  {
   "cell_type": "code",
   "execution_count": 87,
   "metadata": {
    "ExecuteTime": {
     "end_time": "2021-01-29T20:35:48.955625Z",
     "start_time": "2021-01-29T20:35:48.849142Z"
    }
   },
   "outputs": [],
   "source": [
    "for knn in range(3,9,2):\n",
    "    knn_results['results' + str(knn)] = knn_models['knn_' + str(knn)].predict(X_test)"
   ]
  },
  {
   "cell_type": "code",
   "execution_count": null,
   "metadata": {
    "ExecuteTime": {
     "end_time": "2021-01-29T20:36:31.554545Z",
     "start_time": "2021-01-29T20:36:31.547107Z"
    }
   },
   "outputs": [],
   "source": []
  },
  {
   "cell_type": "code",
   "execution_count": null,
   "metadata": {},
   "outputs": [],
   "source": []
  }
 ],
 "metadata": {
  "kernelspec": {
   "display_name": "Python 3",
   "language": "python",
   "name": "python3"
  },
  "language_info": {
   "codemirror_mode": {
    "name": "ipython",
    "version": 3
   },
   "file_extension": ".py",
   "mimetype": "text/x-python",
   "name": "python",
   "nbconvert_exporter": "python",
   "pygments_lexer": "ipython3",
   "version": "3.8.5"
  },
  "toc": {
   "base_numbering": 1,
   "nav_menu": {},
   "number_sections": true,
   "sideBar": true,
   "skip_h1_title": false,
   "title_cell": "Table of Contents",
   "title_sidebar": "Contents",
   "toc_cell": false,
   "toc_position": {},
   "toc_section_display": true,
   "toc_window_display": false
  },
  "varInspector": {
   "cols": {
    "lenName": 16,
    "lenType": 16,
    "lenVar": 40
   },
   "kernels_config": {
    "python": {
     "delete_cmd_postfix": "",
     "delete_cmd_prefix": "del ",
     "library": "var_list.py",
     "varRefreshCmd": "print(var_dic_list())"
    },
    "r": {
     "delete_cmd_postfix": ") ",
     "delete_cmd_prefix": "rm(",
     "library": "var_list.r",
     "varRefreshCmd": "cat(var_dic_list()) "
    }
   },
   "types_to_exclude": [
    "module",
    "function",
    "builtin_function_or_method",
    "instance",
    "_Feature"
   ],
   "window_display": false
  }
 },
 "nbformat": 4,
 "nbformat_minor": 4
}
